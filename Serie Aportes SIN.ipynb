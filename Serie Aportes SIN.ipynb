{
 "cells": [
  {
   "cell_type": "markdown",
   "metadata": {
    "id": "Bq2Fof8u0v2v"
   },
   "source": [
    "### Instalando pydataxm - API XM\n",
    "\n"
   ]
  },
  {
   "cell_type": "code",
   "execution_count": 87,
   "metadata": {
    "colab": {
     "base_uri": "https://localhost:8080/"
    },
    "collapsed": true,
    "executionInfo": {
     "elapsed": 5243,
     "status": "ok",
     "timestamp": 1739845493951,
     "user": {
      "displayName": "Juan Esteban Patino Forero",
      "userId": "00856985301128718722"
     },
     "user_tz": 300
    },
    "id": "XkGh34gO0gTW",
    "outputId": "58092213-812f-490c-cff1-f007639ea65e"
   },
   "outputs": [],
   "source": [
    "#!pip install pydataxm"
   ]
  },
  {
   "cell_type": "markdown",
   "metadata": {
    "id": "NuV0ArfK1G7l"
   },
   "source": [
    "### Importando Librerias"
   ]
  },
  {
   "cell_type": "code",
   "execution_count": 101,
   "metadata": {
    "id": "-GTNx3at1I3_"
   },
   "outputs": [],
   "source": [
    "from pydataxm import *\n",
    "import pandas as pd\n",
    "import datetime as dt\n",
    "from matplotlib import pyplot as plt\n",
    "import os\n",
    "import seaborn as sns"
   ]
  },
  {
   "cell_type": "markdown",
   "metadata": {
    "id": "Om5jjJuA9Jkz"
   },
   "source": [
    "### Obteniendo datos de la API XM"
   ]
  },
  {
   "cell_type": "code",
   "execution_count": 89,
   "metadata": {
    "colab": {
     "base_uri": "https://localhost:8080/",
     "height": 379
    },
    "executionInfo": {
     "elapsed": 925,
     "status": "ok",
     "timestamp": 1739845494861,
     "user": {
      "displayName": "Juan Esteban Patino Forero",
      "userId": "00856985301128718722"
     },
     "user_tz": 300
    },
    "id": "ylJwj9Hu7jF5",
    "outputId": "7a7b0547-9733-44d1-d212-70bca5b2757d"
   },
   "outputs": [
    {
     "data": {
      "application/vnd.microsoft.datawrangler.viewer.v0+json": {
       "columns": [
        {
         "name": "index",
         "rawType": "int64",
         "type": "integer"
        },
        {
         "name": "MetricId",
         "rawType": "object",
         "type": "string"
        },
        {
         "name": "MetricName",
         "rawType": "object",
         "type": "string"
        },
        {
         "name": "Entity",
         "rawType": "object",
         "type": "string"
        },
        {
         "name": "MaxDays",
         "rawType": "int64",
         "type": "integer"
        },
        {
         "name": "Type",
         "rawType": "object",
         "type": "string"
        },
        {
         "name": "Url",
         "rawType": "object",
         "type": "string"
        },
        {
         "name": "Filter",
         "rawType": "object",
         "type": "string"
        },
        {
         "name": "MetricUnits",
         "rawType": "object",
         "type": "string"
        },
        {
         "name": "MetricDescription",
         "rawType": "object",
         "type": "string"
        }
       ],
       "conversionMethod": "pd.DataFrame",
       "ref": "84b0a7ce-dc6c-4147-8140-7573c3b7c165",
       "rows": [
        [
         "0",
         "DemaReal",
         "Demanda Real por Sistema",
         "Sistema",
         "31",
         "HourlyEntities",
         "http://servapibi.xm.com.co/hourly",
         "No aplica",
         "kWh",
         "Demanda de usuarios regulados y no regulados que hacen parte del Sistema Interconectado Nacional (no incluye Alumbrado Público)"
        ],
        [
         "1",
         "DemaReal",
         "Demanda Real por Agente",
         "Agente",
         "31",
         "HourlyEntities",
         "http://servapibi.xm.com.co/hourly",
         "Codigo Comercializador",
         "kWh",
         "Demanda de usuarios regulados y no regulados que hacen parte del Sistema Interconectado Nacional (no incluye Alumbrado Público)"
        ],
        [
         "2",
         "ExpoMoneda",
         "Exportaciones Moneda por Sistema",
         "Sistema",
         "31",
         "HourlyEntities",
         "http://servapibi.xm.com.co/hourly",
         "No aplica",
         "COP",
         "Transferencias de Energia desde Colombia hacia otros paises"
        ],
        [
         "3",
         "DemaCome",
         "Demanda Comercial por Sistema",
         "Sistema",
         "31",
         "HourlyEntities",
         "http://servapibi.xm.com.co/hourly",
         "No aplica",
         "kWh",
         "Considera la demanda propia de cada comercializador mas la paticipacion en la perdidas del STN y los consumos propios de los generadores."
        ],
        [
         "4",
         "Gene",
         "Generación por Sistema",
         "Sistema",
         "31",
         "HourlyEntities",
         "http://servapibi.xm.com.co/hourly",
         "No aplica",
         "kWh",
         "Generacion neta de cada una de las plantas Nacionales en sus puntos de frontera."
        ]
       ],
       "shape": {
        "columns": 9,
        "rows": 5
       }
      },
      "text/html": [
       "<div>\n",
       "<style scoped>\n",
       "    .dataframe tbody tr th:only-of-type {\n",
       "        vertical-align: middle;\n",
       "    }\n",
       "\n",
       "    .dataframe tbody tr th {\n",
       "        vertical-align: top;\n",
       "    }\n",
       "\n",
       "    .dataframe thead th {\n",
       "        text-align: right;\n",
       "    }\n",
       "</style>\n",
       "<table border=\"1\" class=\"dataframe\">\n",
       "  <thead>\n",
       "    <tr style=\"text-align: right;\">\n",
       "      <th></th>\n",
       "      <th>MetricId</th>\n",
       "      <th>MetricName</th>\n",
       "      <th>Entity</th>\n",
       "      <th>MaxDays</th>\n",
       "      <th>Type</th>\n",
       "      <th>Url</th>\n",
       "      <th>Filter</th>\n",
       "      <th>MetricUnits</th>\n",
       "      <th>MetricDescription</th>\n",
       "    </tr>\n",
       "  </thead>\n",
       "  <tbody>\n",
       "    <tr>\n",
       "      <th>0</th>\n",
       "      <td>DemaReal</td>\n",
       "      <td>Demanda Real por Sistema</td>\n",
       "      <td>Sistema</td>\n",
       "      <td>31</td>\n",
       "      <td>HourlyEntities</td>\n",
       "      <td>http://servapibi.xm.com.co/hourly</td>\n",
       "      <td>No aplica</td>\n",
       "      <td>kWh</td>\n",
       "      <td>Demanda de usuarios regulados y no regulados q...</td>\n",
       "    </tr>\n",
       "    <tr>\n",
       "      <th>1</th>\n",
       "      <td>DemaReal</td>\n",
       "      <td>Demanda Real por Agente</td>\n",
       "      <td>Agente</td>\n",
       "      <td>31</td>\n",
       "      <td>HourlyEntities</td>\n",
       "      <td>http://servapibi.xm.com.co/hourly</td>\n",
       "      <td>Codigo Comercializador</td>\n",
       "      <td>kWh</td>\n",
       "      <td>Demanda de usuarios regulados y no regulados q...</td>\n",
       "    </tr>\n",
       "    <tr>\n",
       "      <th>2</th>\n",
       "      <td>ExpoMoneda</td>\n",
       "      <td>Exportaciones Moneda por Sistema</td>\n",
       "      <td>Sistema</td>\n",
       "      <td>31</td>\n",
       "      <td>HourlyEntities</td>\n",
       "      <td>http://servapibi.xm.com.co/hourly</td>\n",
       "      <td>No aplica</td>\n",
       "      <td>COP</td>\n",
       "      <td>Transferencias de Energia desde Colombia hacia...</td>\n",
       "    </tr>\n",
       "    <tr>\n",
       "      <th>3</th>\n",
       "      <td>DemaCome</td>\n",
       "      <td>Demanda Comercial por Sistema</td>\n",
       "      <td>Sistema</td>\n",
       "      <td>31</td>\n",
       "      <td>HourlyEntities</td>\n",
       "      <td>http://servapibi.xm.com.co/hourly</td>\n",
       "      <td>No aplica</td>\n",
       "      <td>kWh</td>\n",
       "      <td>Considera la demanda propia de cada comerciali...</td>\n",
       "    </tr>\n",
       "    <tr>\n",
       "      <th>4</th>\n",
       "      <td>Gene</td>\n",
       "      <td>Generación por Sistema</td>\n",
       "      <td>Sistema</td>\n",
       "      <td>31</td>\n",
       "      <td>HourlyEntities</td>\n",
       "      <td>http://servapibi.xm.com.co/hourly</td>\n",
       "      <td>No aplica</td>\n",
       "      <td>kWh</td>\n",
       "      <td>Generacion neta de cada una de las plantas Nac...</td>\n",
       "    </tr>\n",
       "  </tbody>\n",
       "</table>\n",
       "</div>"
      ],
      "text/plain": [
       "     MetricId                        MetricName   Entity  MaxDays  \\\n",
       "0    DemaReal          Demanda Real por Sistema  Sistema       31   \n",
       "1    DemaReal           Demanda Real por Agente   Agente       31   \n",
       "2  ExpoMoneda  Exportaciones Moneda por Sistema  Sistema       31   \n",
       "3    DemaCome     Demanda Comercial por Sistema  Sistema       31   \n",
       "4        Gene            Generación por Sistema  Sistema       31   \n",
       "\n",
       "             Type                                Url                  Filter  \\\n",
       "0  HourlyEntities  http://servapibi.xm.com.co/hourly               No aplica   \n",
       "1  HourlyEntities  http://servapibi.xm.com.co/hourly  Codigo Comercializador   \n",
       "2  HourlyEntities  http://servapibi.xm.com.co/hourly               No aplica   \n",
       "3  HourlyEntities  http://servapibi.xm.com.co/hourly               No aplica   \n",
       "4  HourlyEntities  http://servapibi.xm.com.co/hourly               No aplica   \n",
       "\n",
       "  MetricUnits                                  MetricDescription  \n",
       "0         kWh  Demanda de usuarios regulados y no regulados q...  \n",
       "1         kWh  Demanda de usuarios regulados y no regulados q...  \n",
       "2         COP  Transferencias de Energia desde Colombia hacia...  \n",
       "3         kWh  Considera la demanda propia de cada comerciali...  \n",
       "4         kWh  Generacion neta de cada una de las plantas Nac...  "
      ]
     },
     "execution_count": 89,
     "metadata": {},
     "output_type": "execute_result"
    }
   ],
   "source": [
    "# https://github.com/EquipoAnaliticaXM/API_XM\n",
    "\n",
    "objAPI= pydataxm.ReadDB() # Objeto API XM\n",
    "df_metricas=objAPI.get_collections() # Obteniendo listado de metricas disponibles asociadas a Aportes\n",
    "df_metricas.head()"
   ]
  },
  {
   "cell_type": "markdown",
   "metadata": {
    "id": "Nn4HhvBAEHpj"
   },
   "source": [
    "#### Consultando las metrica de interes"
   ]
  },
  {
   "cell_type": "code",
   "execution_count": 90,
   "metadata": {
    "id": "yTAkhuPgHPoh"
   },
   "outputs": [],
   "source": [
    "def get_data(metrica,fi=dt.date(2000,1,1),ff=dt.date(2025,1,31)):\n",
    "  objAPI= pydataxm.ReadDB() # Objeto API XM\n",
    "  df=objAPI.request_data(\n",
    "    metrica,'Rio',fi,ff\n",
    "  ) # Consulta de información\n",
    "  df=df[df['Name']=='NARE']\n",
    "  df.drop(columns=['Id'],inplace=True)\n",
    "  df['Value']=round(df['Value'],3) # Unidades en GWh\n",
    "  df.rename(columns={'Value':metrica},inplace=True)\n",
    "\n",
    "  return df"
   ]
  },
  {
   "cell_type": "code",
   "execution_count": 91,
   "metadata": {
    "colab": {
     "base_uri": "https://localhost:8080/",
     "height": 206
    },
    "executionInfo": {
     "elapsed": 4241,
     "status": "ok",
     "timestamp": 1739845499075,
     "user": {
      "displayName": "Juan Esteban Patino Forero",
      "userId": "00856985301128718722"
     },
     "user_tz": 300
    },
    "id": "hxHjNBX4ELYB",
    "outputId": "2aa20944-8784-4138-920c-831523322599"
   },
   "outputs": [
    {
     "data": {
      "application/vnd.microsoft.datawrangler.viewer.v0+json": {
       "columns": [
        {
         "name": "index",
         "rawType": "int64",
         "type": "integer"
        },
        {
         "name": "Name",
         "rawType": "object",
         "type": "string"
        },
        {
         "name": "AporCaudal",
         "rawType": "float64",
         "type": "float"
        },
        {
         "name": "Date",
         "rawType": "datetime64[ns]",
         "type": "datetime"
        }
       ],
       "conversionMethod": "pd.DataFrame",
       "ref": "cf4b0c8a-f3f6-4632-8741-e461d4fa4d57",
       "rows": [
        [
         "14",
         "NARE",
         "43.51",
         "2000-01-01 00:00:00"
        ],
        [
         "32",
         "NARE",
         "43.67",
         "2000-01-02 00:00:00"
        ],
        [
         "50",
         "NARE",
         "41.21",
         "2000-01-03 00:00:00"
        ],
        [
         "68",
         "NARE",
         "43.8",
         "2000-01-04 00:00:00"
        ],
        [
         "86",
         "NARE",
         "40.62",
         "2000-01-05 00:00:00"
        ]
       ],
       "shape": {
        "columns": 3,
        "rows": 5
       }
      },
      "text/html": [
       "<div>\n",
       "<style scoped>\n",
       "    .dataframe tbody tr th:only-of-type {\n",
       "        vertical-align: middle;\n",
       "    }\n",
       "\n",
       "    .dataframe tbody tr th {\n",
       "        vertical-align: top;\n",
       "    }\n",
       "\n",
       "    .dataframe thead th {\n",
       "        text-align: right;\n",
       "    }\n",
       "</style>\n",
       "<table border=\"1\" class=\"dataframe\">\n",
       "  <thead>\n",
       "    <tr style=\"text-align: right;\">\n",
       "      <th></th>\n",
       "      <th>Name</th>\n",
       "      <th>AporCaudal</th>\n",
       "      <th>Date</th>\n",
       "    </tr>\n",
       "  </thead>\n",
       "  <tbody>\n",
       "    <tr>\n",
       "      <th>14</th>\n",
       "      <td>NARE</td>\n",
       "      <td>43.51</td>\n",
       "      <td>2000-01-01</td>\n",
       "    </tr>\n",
       "    <tr>\n",
       "      <th>32</th>\n",
       "      <td>NARE</td>\n",
       "      <td>43.67</td>\n",
       "      <td>2000-01-02</td>\n",
       "    </tr>\n",
       "    <tr>\n",
       "      <th>50</th>\n",
       "      <td>NARE</td>\n",
       "      <td>41.21</td>\n",
       "      <td>2000-01-03</td>\n",
       "    </tr>\n",
       "    <tr>\n",
       "      <th>68</th>\n",
       "      <td>NARE</td>\n",
       "      <td>43.80</td>\n",
       "      <td>2000-01-04</td>\n",
       "    </tr>\n",
       "    <tr>\n",
       "      <th>86</th>\n",
       "      <td>NARE</td>\n",
       "      <td>40.62</td>\n",
       "      <td>2000-01-05</td>\n",
       "    </tr>\n",
       "  </tbody>\n",
       "</table>\n",
       "</div>"
      ],
      "text/plain": [
       "    Name  AporCaudal       Date\n",
       "14  NARE       43.51 2000-01-01\n",
       "32  NARE       43.67 2000-01-02\n",
       "50  NARE       41.21 2000-01-03\n",
       "68  NARE       43.80 2000-01-04\n",
       "86  NARE       40.62 2000-01-05"
      ]
     },
     "execution_count": 91,
     "metadata": {},
     "output_type": "execute_result"
    }
   ],
   "source": [
    "df=get_data('AporCaudal')\n",
    "df.head()"
   ]
  },
  {
   "cell_type": "code",
   "execution_count": 92,
   "metadata": {
    "colab": {
     "base_uri": "https://localhost:8080/",
     "height": 178
    },
    "executionInfo": {
     "elapsed": 80,
     "status": "ok",
     "timestamp": 1739845503448,
     "user": {
      "displayName": "Juan Esteban Patino Forero",
      "userId": "00856985301128718722"
     },
     "user_tz": 300
    },
    "id": "pdobSZ0cNFQk",
    "outputId": "a1e1348c-3be2-46fe-fdf7-376e896fa925"
   },
   "outputs": [
    {
     "data": {
      "text/plain": [
       "Name          0\n",
       "AporCaudal    0\n",
       "Date          0\n",
       "dtype: int64"
      ]
     },
     "execution_count": 92,
     "metadata": {},
     "output_type": "execute_result"
    }
   ],
   "source": [
    "df.isna().sum()"
   ]
  },
  {
   "cell_type": "markdown",
   "metadata": {
    "id": "YgvX6xmj0aXd"
   },
   "source": [
    "### Periodos del niño significativos para el Sistema Eléctrico Colombiano"
   ]
  },
  {
   "cell_type": "code",
   "execution_count": 93,
   "metadata": {
    "id": "-n27DsVQZtEw"
   },
   "outputs": [],
   "source": [
    "def data_ENOS():\n",
    "  data = {\n",
    "      'Periodo': ['2006-2007', '2009-2010','2014-2016','2023-2024'],\n",
    "      'Inicio': ['2006-12-01','2009-11-01','2014-12-01','2023-09-01'],\n",
    "      'Fin': ['2007-03-31','2010-02-28','2016-06-30', '2024-04-30']\n",
    "  }\n",
    "\n",
    "  df_ENOS = pd.DataFrame(data)\n",
    "  df_ENOS['Inicio'] = pd.to_datetime(df_ENOS['Inicio'])\n",
    "  df_ENOS['Fin'] = pd.to_datetime(df_ENOS['Fin'])\n",
    "\n",
    "  return df_ENOS"
   ]
  },
  {
   "cell_type": "code",
   "execution_count": 94,
   "metadata": {
    "id": "fH5vgHRKbPHX"
   },
   "outputs": [],
   "source": [
    "df_ENOS = data_ENOS()\n",
    "\n",
    "df['ENOS'] = df['Date'].apply(lambda x: next((True for _, row in df_ENOS.iterrows() if row['Inicio'] <= x <= row['Fin']), False))"
   ]
  },
  {
   "cell_type": "markdown",
   "metadata": {
    "id": "qbnyGgkS0jN1"
   },
   "source": [
    "### Serie de Aportes"
   ]
  },
  {
   "cell_type": "code",
   "execution_count": 95,
   "metadata": {
    "colab": {
     "base_uri": "https://localhost:8080/",
     "height": 375
    },
    "executionInfo": {
     "elapsed": 707,
     "status": "ok",
     "timestamp": 1739845514148,
     "user": {
      "displayName": "Juan Esteban Patino Forero",
      "userId": "00856985301128718722"
     },
     "user_tz": 300
    },
    "id": "liFpTONtKixv",
    "outputId": "42e1f1ce-136a-465d-c12e-0e6ae3212e6c"
   },
   "outputs": [
    {
     "data": {
      "image/png": "[encoded data removed]",
      "text/plain": [
       "<Figure size 2000x600 with 1 Axes>"
      ]
     },
     "metadata": {},
     "output_type": "display_data"
    }
   ],
   "source": [
    "def plot_series(df):\n",
    "\n",
    "  plt.figure(figsize=(20,6))\n",
    "\n",
    "  plt.plot(df['Date'], df['AporCaudal'], label='Aportes Energéticos',color='blue', alpha=0.5)\n",
    "\n",
    "  # Periodos de Niño\n",
    "  df_nino=df[df['ENOS']]\n",
    "  plt.scatter(df_nino['Date'], df_nino['AporCaudal'], label='Fenomeno del Niño',color='black', marker='s', s=1.5)\n",
    "\n",
    "  plt.xlabel('Date')\n",
    "  plt.ylabel('GWh')\n",
    "\n",
    "  plt.legend()\n",
    "  plt.show()\n",
    "\n",
    "\n",
    "plot_series(df)"
   ]
  },
  {
   "cell_type": "markdown",
   "metadata": {},
   "source": [
    "### Variables Meteorologicas"
   ]
  },
  {
   "cell_type": "code",
   "execution_count": 96,
   "metadata": {},
   "outputs": [],
   "source": [
    "def read_csv(path):\n",
    "    dfs= [ pd.read_csv(os.path.join(path, file),index_col=0,parse_dates=True) \n",
    "        for file in os.listdir(path) if file.endswith('.csv') and 'Aportes' not in file\n",
    "    ]\n",
    "    \n",
    "    return pd.concat(dfs, axis=1).reset_index().rename(columns={'index':'Date'})\n",
    "\n",
    "df_meteorological = read_csv(os.getcwd())"
   ]
  },
  {
   "cell_type": "markdown",
   "metadata": {},
   "source": [
    "### Dataset Aportes"
   ]
  },
  {
   "cell_type": "code",
   "execution_count": 98,
   "metadata": {},
   "outputs": [],
   "source": [
    "df=df_meteorological.merge(df, on='Date', how='right')\n",
    "df.head()\n",
    "df.to_csv('Aportes.csv', index=False)"
   ]
  }
 ],
 "metadata": {
  "colab": {
   "provenance": []
  },
  "kernelspec": {
   "display_name": ".venv",
   "language": "python",
   "name": "python3"
  },
  "language_info": {
   "codemirror_mode": {
    "name": "ipython",
    "version": 3
   },
   "file_extension": ".py",
   "mimetype": "text/x-python",
   "name": "python",
   "nbconvert_exporter": "python",
   "pygments_lexer": "ipython3",
   "version": "3.11.10"
  }
 },
 "nbformat": 4,
 "nbformat_minor": 0
}
