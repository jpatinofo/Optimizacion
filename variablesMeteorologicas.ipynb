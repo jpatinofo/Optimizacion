{
 "cells": [
  {
   "cell_type": "code",
   "execution_count": 28,
   "metadata": {},
   "outputs": [],
   "source": [
    "import pandas as pd\n",
    "import os"
   ]
  },
  {
   "cell_type": "markdown",
   "metadata": {},
   "source": [
    "## Lectura y Organización de Archivos"
   ]
  },
  {
   "cell_type": "markdown",
   "metadata": {},
   "source": [
    "#### Carga de archivos y procesamiento"
   ]
  },
  {
   "cell_type": "code",
   "execution_count": 29,
   "metadata": {},
   "outputs": [],
   "source": [
    "def get_data(path):\n",
    "\n",
    "    csv_files = [file for file in os.listdir(path) if file.endswith('.csv')]\n",
    "    merged_df = pd.read_csv(os.path.join(path, csv_files[0]),\n",
    "                            sep=';', parse_dates=['Fecha'], usecols=['Fecha','Valor'])\n",
    "\n",
    "    for file in csv_files[1:]:\n",
    "        df = pd.read_csv(os.path.join(path, file), sep=';',\n",
    "                        parse_dates=['Fecha'],usecols=['Fecha','Valor'])\n",
    "        merged_df = merged_df.merge(df, how='left', on='Fecha')\n",
    "        \n",
    "        \n",
    "    merged_df[path]=round(merged_df.iloc[:,1:].mean(axis=1),2)\n",
    "    merged_df.drop(merged_df.columns[1:-1], axis=1, inplace=True)\n",
    "    merged_df['Fecha'] = merged_df['Fecha'].dt.strftime('%Y-%m-%d')\n",
    "    \n",
    "    merged_df[path].fillna(merged_df[path].mean(), inplace=True)\n",
    "    \n",
    "    return merged_df"
   ]
  },
  {
   "cell_type": "code",
   "execution_count": 30,
   "metadata": {},
   "outputs": [
    {
     "name": "stderr",
     "output_type": "stream",
     "text": [
      "C:\\Users\\Juane\\AppData\\Local\\Temp\\ipykernel_20192\\3841373082.py:17: FutureWarning: A value is trying to be set on a copy of a DataFrame or Series through chained assignment using an inplace method.\n",
      "The behavior will change in pandas 3.0. This inplace method will never work because the intermediate object on which we are setting values always behaves as a copy.\n",
      "\n",
      "For example, when doing 'df[col].method(value, inplace=True)', try using 'df.method({col: value}, inplace=True)' or df[col] = df[col].method(value) instead, to perform the operation inplace on the original object.\n",
      "\n",
      "\n",
      "  merged_df[path].fillna(merged_df[path].mean(), inplace=True)\n",
      "C:\\Users\\Juane\\AppData\\Local\\Temp\\ipykernel_20192\\3841373082.py:17: FutureWarning: A value is trying to be set on a copy of a DataFrame or Series through chained assignment using an inplace method.\n",
      "The behavior will change in pandas 3.0. This inplace method will never work because the intermediate object on which we are setting values always behaves as a copy.\n",
      "\n",
      "For example, when doing 'df[col].method(value, inplace=True)', try using 'df.method({col: value}, inplace=True)' or df[col] = df[col].method(value) instead, to perform the operation inplace on the original object.\n",
      "\n",
      "\n",
      "  merged_df[path].fillna(merged_df[path].mean(), inplace=True)\n",
      "C:\\Users\\Juane\\AppData\\Local\\Temp\\ipykernel_20192\\3841373082.py:17: FutureWarning: A value is trying to be set on a copy of a DataFrame or Series through chained assignment using an inplace method.\n",
      "The behavior will change in pandas 3.0. This inplace method will never work because the intermediate object on which we are setting values always behaves as a copy.\n",
      "\n",
      "For example, when doing 'df[col].method(value, inplace=True)', try using 'df.method({col: value}, inplace=True)' or df[col] = df[col].method(value) instead, to perform the operation inplace on the original object.\n",
      "\n",
      "\n",
      "  merged_df[path].fillna(merged_df[path].mean(), inplace=True)\n"
     ]
    }
   ],
   "source": [
    "df_precipitaciones = get_data('Precipitaciones')\n",
    "df_temperaturas = get_data('Temperaturas')\n",
    "df_humedad = get_data('Humedades')\n",
    "\n",
    "df = df_precipitaciones.merge(df_temperaturas, how='left', on='Fecha')\n",
    "df = df.merge(df_humedad, how='left', on='Fecha')\n",
    "\n",
    "df.fillna(df.mean(numeric_only=True).round(2), inplace=True)"
   ]
  },
  {
   "cell_type": "markdown",
   "metadata": {},
   "source": [
    "#### Exportar archivos"
   ]
  },
  {
   "cell_type": "code",
   "execution_count": 31,
   "metadata": {},
   "outputs": [],
   "source": [
    "df.to_csv('variablesMeteorologicas_processed.csv', index=False)"
   ]
  }
 ],
 "metadata": {
  "kernelspec": {
   "display_name": ".venv",
   "language": "python",
   "name": "python3"
  },
  "language_info": {
   "codemirror_mode": {
    "name": "ipython",
    "version": 3
   },
   "file_extension": ".py",
   "mimetype": "text/x-python",
   "name": "python",
   "nbconvert_exporter": "python",
   "pygments_lexer": "ipython3",
   "version": "3.11.10"
  }
 },
 "nbformat": 4,
 "nbformat_minor": 2
}
