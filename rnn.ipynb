{
 "cells": [
  {
   "cell_type": "markdown",
   "metadata": {},
   "source": [
    "**RNN CON LSTM**"
   ]
  },
  {
   "cell_type": "code",
   "execution_count": 1,
   "metadata": {},
   "outputs": [],
   "source": [
    "# Importar librerías\n",
    "import pandas as pd\n",
    "import numpy as np\n",
    "import matplotlib.pyplot as plt\n",
    "import tensorflow as tf\n",
    "from sklearn.preprocessing import StandardScaler\n",
    "import matplotlib.pyplot as plt \n",
    "import seaborn as sns \n",
    "import os \n",
    "from datetime import datetime\n",
    "import keras"
   ]
  },
  {
   "cell_type": "markdown",
   "metadata": {},
   "source": [
    "# 1. Importar los datos"
   ]
  },
  {
   "cell_type": "markdown",
   "metadata": {},
   "source": [
    "Entrenamiento"
   ]
  },
  {
   "cell_type": "code",
   "execution_count": 2,
   "metadata": {},
   "outputs": [
    {
     "data": {
      "text/html": [
       "<div>\n",
       "<style scoped>\n",
       "    .dataframe tbody tr th:only-of-type {\n",
       "        vertical-align: middle;\n",
       "    }\n",
       "\n",
       "    .dataframe tbody tr th {\n",
       "        vertical-align: top;\n",
       "    }\n",
       "\n",
       "    .dataframe thead th {\n",
       "        text-align: right;\n",
       "    }\n",
       "</style>\n",
       "<table border=\"1\" class=\"dataframe\">\n",
       "  <thead>\n",
       "    <tr style=\"text-align: right;\">\n",
       "      <th></th>\n",
       "      <th>20E</th>\n",
       "      <th>70E</th>\n",
       "      <th>80E</th>\n",
       "      <th>100E</th>\n",
       "      <th>120E</th>\n",
       "      <th>140E</th>\n",
       "      <th>160E</th>\n",
       "      <th>120W</th>\n",
       "      <th>40W</th>\n",
       "      <th>10W</th>\n",
       "      <th>Year</th>\n",
       "      <th>Month</th>\n",
       "      <th>Value</th>\n",
       "      <th>PosibleNino</th>\n",
       "      <th>PosibleNina</th>\n",
       "      <th>Precipitaciones</th>\n",
       "      <th>Temperaturas</th>\n",
       "      <th>Humedades</th>\n",
       "      <th>Name</th>\n",
       "      <th>AporCaudal</th>\n",
       "    </tr>\n",
       "    <tr>\n",
       "      <th>Date</th>\n",
       "      <th></th>\n",
       "      <th></th>\n",
       "      <th></th>\n",
       "      <th></th>\n",
       "      <th></th>\n",
       "      <th></th>\n",
       "      <th></th>\n",
       "      <th></th>\n",
       "      <th></th>\n",
       "      <th></th>\n",
       "      <th></th>\n",
       "      <th></th>\n",
       "      <th></th>\n",
       "      <th></th>\n",
       "      <th></th>\n",
       "      <th></th>\n",
       "      <th></th>\n",
       "      <th></th>\n",
       "      <th></th>\n",
       "      <th></th>\n",
       "    </tr>\n",
       "  </thead>\n",
       "  <tbody>\n",
       "    <tr>\n",
       "      <th>2000-01-01</th>\n",
       "      <td>-0.36</td>\n",
       "      <td>-0.69</td>\n",
       "      <td>-0.74</td>\n",
       "      <td>-0.30</td>\n",
       "      <td>-0.28</td>\n",
       "      <td>0.20</td>\n",
       "      <td>0.57</td>\n",
       "      <td>0.79</td>\n",
       "      <td>0.61</td>\n",
       "      <td>0.09</td>\n",
       "      <td>2000</td>\n",
       "      <td>1</td>\n",
       "      <td>-1.7</td>\n",
       "      <td>0</td>\n",
       "      <td>0</td>\n",
       "      <td>0.0</td>\n",
       "      <td>23.6</td>\n",
       "      <td>96.0</td>\n",
       "      <td>NARE</td>\n",
       "      <td>43.51</td>\n",
       "    </tr>\n",
       "    <tr>\n",
       "      <th>2000-01-02</th>\n",
       "      <td>-0.36</td>\n",
       "      <td>-0.69</td>\n",
       "      <td>-0.74</td>\n",
       "      <td>-0.30</td>\n",
       "      <td>-0.28</td>\n",
       "      <td>0.20</td>\n",
       "      <td>0.57</td>\n",
       "      <td>0.79</td>\n",
       "      <td>0.61</td>\n",
       "      <td>0.09</td>\n",
       "      <td>2000</td>\n",
       "      <td>1</td>\n",
       "      <td>-1.7</td>\n",
       "      <td>0</td>\n",
       "      <td>0</td>\n",
       "      <td>0.0</td>\n",
       "      <td>26.7</td>\n",
       "      <td>95.0</td>\n",
       "      <td>NARE</td>\n",
       "      <td>43.67</td>\n",
       "    </tr>\n",
       "    <tr>\n",
       "      <th>2000-01-03</th>\n",
       "      <td>-0.36</td>\n",
       "      <td>-0.69</td>\n",
       "      <td>-0.74</td>\n",
       "      <td>-0.30</td>\n",
       "      <td>-0.28</td>\n",
       "      <td>0.20</td>\n",
       "      <td>0.57</td>\n",
       "      <td>0.79</td>\n",
       "      <td>0.61</td>\n",
       "      <td>0.09</td>\n",
       "      <td>2000</td>\n",
       "      <td>1</td>\n",
       "      <td>-1.7</td>\n",
       "      <td>0</td>\n",
       "      <td>0</td>\n",
       "      <td>0.0</td>\n",
       "      <td>24.0</td>\n",
       "      <td>96.0</td>\n",
       "      <td>NARE</td>\n",
       "      <td>41.21</td>\n",
       "    </tr>\n",
       "    <tr>\n",
       "      <th>2000-01-04</th>\n",
       "      <td>0.82</td>\n",
       "      <td>0.31</td>\n",
       "      <td>-0.53</td>\n",
       "      <td>-1.02</td>\n",
       "      <td>-1.06</td>\n",
       "      <td>-0.94</td>\n",
       "      <td>-0.57</td>\n",
       "      <td>0.06</td>\n",
       "      <td>0.83</td>\n",
       "      <td>1.05</td>\n",
       "      <td>2000</td>\n",
       "      <td>1</td>\n",
       "      <td>-1.7</td>\n",
       "      <td>0</td>\n",
       "      <td>0</td>\n",
       "      <td>4.6</td>\n",
       "      <td>22.4</td>\n",
       "      <td>98.0</td>\n",
       "      <td>NARE</td>\n",
       "      <td>43.80</td>\n",
       "    </tr>\n",
       "    <tr>\n",
       "      <th>2000-01-05</th>\n",
       "      <td>0.82</td>\n",
       "      <td>0.31</td>\n",
       "      <td>-0.53</td>\n",
       "      <td>-1.02</td>\n",
       "      <td>-1.06</td>\n",
       "      <td>-0.94</td>\n",
       "      <td>-0.57</td>\n",
       "      <td>0.06</td>\n",
       "      <td>0.83</td>\n",
       "      <td>1.05</td>\n",
       "      <td>2000</td>\n",
       "      <td>1</td>\n",
       "      <td>-1.7</td>\n",
       "      <td>0</td>\n",
       "      <td>1</td>\n",
       "      <td>0.0</td>\n",
       "      <td>21.0</td>\n",
       "      <td>98.0</td>\n",
       "      <td>NARE</td>\n",
       "      <td>40.62</td>\n",
       "    </tr>\n",
       "  </tbody>\n",
       "</table>\n",
       "</div>"
      ],
      "text/plain": [
       "             20E   70E   80E  100E  120E  140E  160E  120W   40W   10W  Year  \\\n",
       "Date                                                                           \n",
       "2000-01-01 -0.36 -0.69 -0.74 -0.30 -0.28  0.20  0.57  0.79  0.61  0.09  2000   \n",
       "2000-01-02 -0.36 -0.69 -0.74 -0.30 -0.28  0.20  0.57  0.79  0.61  0.09  2000   \n",
       "2000-01-03 -0.36 -0.69 -0.74 -0.30 -0.28  0.20  0.57  0.79  0.61  0.09  2000   \n",
       "2000-01-04  0.82  0.31 -0.53 -1.02 -1.06 -0.94 -0.57  0.06  0.83  1.05  2000   \n",
       "2000-01-05  0.82  0.31 -0.53 -1.02 -1.06 -0.94 -0.57  0.06  0.83  1.05  2000   \n",
       "\n",
       "            Month  Value  PosibleNino  PosibleNina  Precipitaciones  \\\n",
       "Date                                                                  \n",
       "2000-01-01      1   -1.7            0            0              0.0   \n",
       "2000-01-02      1   -1.7            0            0              0.0   \n",
       "2000-01-03      1   -1.7            0            0              0.0   \n",
       "2000-01-04      1   -1.7            0            0              4.6   \n",
       "2000-01-05      1   -1.7            0            1              0.0   \n",
       "\n",
       "            Temperaturas  Humedades  Name  AporCaudal  \n",
       "Date                                                   \n",
       "2000-01-01          23.6       96.0  NARE       43.51  \n",
       "2000-01-02          26.7       95.0  NARE       43.67  \n",
       "2000-01-03          24.0       96.0  NARE       41.21  \n",
       "2000-01-04          22.4       98.0  NARE       43.80  \n",
       "2000-01-05          21.0       98.0  NARE       40.62  "
      ]
     },
     "execution_count": 2,
     "metadata": {},
     "output_type": "execute_result"
    }
   ],
   "source": [
    "df=pd.read_csv('Aportes.csv',parse_dates=True,index_col='Date')\n",
    "df.head()"
   ]
  },
  {
   "cell_type": "markdown",
   "metadata": {},
   "source": [
    "Prueba"
   ]
  },
  {
   "cell_type": "code",
   "execution_count": 3,
   "metadata": {},
   "outputs": [
    {
     "data": {
      "text/html": [
       "<div>\n",
       "<style scoped>\n",
       "    .dataframe tbody tr th:only-of-type {\n",
       "        vertical-align: middle;\n",
       "    }\n",
       "\n",
       "    .dataframe tbody tr th {\n",
       "        vertical-align: top;\n",
       "    }\n",
       "\n",
       "    .dataframe thead th {\n",
       "        text-align: right;\n",
       "    }\n",
       "</style>\n",
       "<table border=\"1\" class=\"dataframe\">\n",
       "  <thead>\n",
       "    <tr style=\"text-align: right;\">\n",
       "      <th></th>\n",
       "      <th>20E</th>\n",
       "      <th>70E</th>\n",
       "      <th>80E</th>\n",
       "      <th>100E</th>\n",
       "      <th>120E</th>\n",
       "      <th>140E</th>\n",
       "      <th>160E</th>\n",
       "      <th>120W</th>\n",
       "      <th>40W</th>\n",
       "      <th>10W</th>\n",
       "      <th>Year</th>\n",
       "      <th>Month</th>\n",
       "      <th>Value</th>\n",
       "      <th>PosibleNino</th>\n",
       "      <th>PosibleNina</th>\n",
       "      <th>Precipitaciones</th>\n",
       "      <th>Temperaturas</th>\n",
       "      <th>Humedades</th>\n",
       "      <th>Name</th>\n",
       "      <th>AporCaudal</th>\n",
       "    </tr>\n",
       "    <tr>\n",
       "      <th>Date</th>\n",
       "      <th></th>\n",
       "      <th></th>\n",
       "      <th></th>\n",
       "      <th></th>\n",
       "      <th></th>\n",
       "      <th></th>\n",
       "      <th></th>\n",
       "      <th></th>\n",
       "      <th></th>\n",
       "      <th></th>\n",
       "      <th></th>\n",
       "      <th></th>\n",
       "      <th></th>\n",
       "      <th></th>\n",
       "      <th></th>\n",
       "      <th></th>\n",
       "      <th></th>\n",
       "      <th></th>\n",
       "      <th></th>\n",
       "      <th></th>\n",
       "    </tr>\n",
       "  </thead>\n",
       "  <tbody>\n",
       "    <tr>\n",
       "      <th>2023-09-01</th>\n",
       "      <td>-0.32</td>\n",
       "      <td>-0.87</td>\n",
       "      <td>-0.7</td>\n",
       "      <td>-0.74</td>\n",
       "      <td>-0.55</td>\n",
       "      <td>-0.09</td>\n",
       "      <td>0.55</td>\n",
       "      <td>0.85</td>\n",
       "      <td>0.77</td>\n",
       "      <td>0.42</td>\n",
       "      <td>2023</td>\n",
       "      <td>9</td>\n",
       "      <td>1.6</td>\n",
       "      <td>1</td>\n",
       "      <td>0</td>\n",
       "      <td>15.6</td>\n",
       "      <td>27.0</td>\n",
       "      <td>96.0</td>\n",
       "      <td>NARE CP</td>\n",
       "      <td>9.801</td>\n",
       "    </tr>\n",
       "    <tr>\n",
       "      <th>2023-09-02</th>\n",
       "      <td>-0.32</td>\n",
       "      <td>-0.87</td>\n",
       "      <td>-0.7</td>\n",
       "      <td>-0.74</td>\n",
       "      <td>-0.55</td>\n",
       "      <td>-0.09</td>\n",
       "      <td>0.55</td>\n",
       "      <td>0.85</td>\n",
       "      <td>0.77</td>\n",
       "      <td>0.42</td>\n",
       "      <td>2023</td>\n",
       "      <td>9</td>\n",
       "      <td>1.6</td>\n",
       "      <td>1</td>\n",
       "      <td>0</td>\n",
       "      <td>7.6</td>\n",
       "      <td>22.6</td>\n",
       "      <td>98.0</td>\n",
       "      <td>NARE CP</td>\n",
       "      <td>10.446</td>\n",
       "    </tr>\n",
       "    <tr>\n",
       "      <th>2023-09-03</th>\n",
       "      <td>-0.32</td>\n",
       "      <td>-0.87</td>\n",
       "      <td>-0.7</td>\n",
       "      <td>-0.74</td>\n",
       "      <td>-0.55</td>\n",
       "      <td>-0.09</td>\n",
       "      <td>0.55</td>\n",
       "      <td>0.85</td>\n",
       "      <td>0.77</td>\n",
       "      <td>0.42</td>\n",
       "      <td>2023</td>\n",
       "      <td>9</td>\n",
       "      <td>1.6</td>\n",
       "      <td>1</td>\n",
       "      <td>0</td>\n",
       "      <td>15.4</td>\n",
       "      <td>25.2</td>\n",
       "      <td>94.0</td>\n",
       "      <td>NARE CP</td>\n",
       "      <td>10.564</td>\n",
       "    </tr>\n",
       "  </tbody>\n",
       "</table>\n",
       "</div>"
      ],
      "text/plain": [
       "             20E   70E  80E  100E  120E  140E  160E  120W   40W   10W  Year  \\\n",
       "Date                                                                          \n",
       "2023-09-01 -0.32 -0.87 -0.7 -0.74 -0.55 -0.09  0.55  0.85  0.77  0.42  2023   \n",
       "2023-09-02 -0.32 -0.87 -0.7 -0.74 -0.55 -0.09  0.55  0.85  0.77  0.42  2023   \n",
       "2023-09-03 -0.32 -0.87 -0.7 -0.74 -0.55 -0.09  0.55  0.85  0.77  0.42  2023   \n",
       "\n",
       "            Month  Value  PosibleNino  PosibleNina  Precipitaciones  \\\n",
       "Date                                                                  \n",
       "2023-09-01      9    1.6            1            0             15.6   \n",
       "2023-09-02      9    1.6            1            0              7.6   \n",
       "2023-09-03      9    1.6            1            0             15.4   \n",
       "\n",
       "            Temperaturas  Humedades     Name  AporCaudal  \n",
       "Date                                                      \n",
       "2023-09-01          27.0       96.0  NARE CP       9.801  \n",
       "2023-09-02          22.6       98.0  NARE CP      10.446  \n",
       "2023-09-03          25.2       94.0  NARE CP      10.564  "
      ]
     },
     "execution_count": 3,
     "metadata": {},
     "output_type": "execute_result"
    }
   ],
   "source": [
    "df_test=pd.read_csv('Aportes_2.csv',parse_dates=True,index_col='Date')\n",
    "df_test.head(3)"
   ]
  },
  {
   "cell_type": "markdown",
   "metadata": {},
   "source": [
    "# 2. Preprocesamiento"
   ]
  },
  {
   "cell_type": "code",
   "execution_count": 4,
   "metadata": {},
   "outputs": [
    {
     "data": {
      "text/html": [
       "<div>\n",
       "<style scoped>\n",
       "    .dataframe tbody tr th:only-of-type {\n",
       "        vertical-align: middle;\n",
       "    }\n",
       "\n",
       "    .dataframe tbody tr th {\n",
       "        vertical-align: top;\n",
       "    }\n",
       "\n",
       "    .dataframe thead th {\n",
       "        text-align: right;\n",
       "    }\n",
       "</style>\n",
       "<table border=\"1\" class=\"dataframe\">\n",
       "  <thead>\n",
       "    <tr style=\"text-align: right;\">\n",
       "      <th></th>\n",
       "      <th>20E</th>\n",
       "      <th>70E</th>\n",
       "      <th>80E</th>\n",
       "      <th>100E</th>\n",
       "      <th>120E</th>\n",
       "      <th>140E</th>\n",
       "      <th>160E</th>\n",
       "      <th>120W</th>\n",
       "      <th>40W</th>\n",
       "      <th>10W</th>\n",
       "      <th>Value</th>\n",
       "      <th>Precipitaciones</th>\n",
       "      <th>Temperaturas</th>\n",
       "      <th>Humedades</th>\n",
       "      <th>AporCaudal</th>\n",
       "    </tr>\n",
       "    <tr>\n",
       "      <th>Date</th>\n",
       "      <th></th>\n",
       "      <th></th>\n",
       "      <th></th>\n",
       "      <th></th>\n",
       "      <th></th>\n",
       "      <th></th>\n",
       "      <th></th>\n",
       "      <th></th>\n",
       "      <th></th>\n",
       "      <th></th>\n",
       "      <th></th>\n",
       "      <th></th>\n",
       "      <th></th>\n",
       "      <th></th>\n",
       "      <th></th>\n",
       "    </tr>\n",
       "  </thead>\n",
       "  <tbody>\n",
       "    <tr>\n",
       "      <th>2000-01-01</th>\n",
       "      <td>-0.36</td>\n",
       "      <td>-0.69</td>\n",
       "      <td>-0.74</td>\n",
       "      <td>-0.30</td>\n",
       "      <td>-0.28</td>\n",
       "      <td>0.20</td>\n",
       "      <td>0.57</td>\n",
       "      <td>0.79</td>\n",
       "      <td>0.61</td>\n",
       "      <td>0.09</td>\n",
       "      <td>-1.7</td>\n",
       "      <td>0.0</td>\n",
       "      <td>23.6</td>\n",
       "      <td>96.0</td>\n",
       "      <td>43.51</td>\n",
       "    </tr>\n",
       "    <tr>\n",
       "      <th>2000-01-02</th>\n",
       "      <td>-0.36</td>\n",
       "      <td>-0.69</td>\n",
       "      <td>-0.74</td>\n",
       "      <td>-0.30</td>\n",
       "      <td>-0.28</td>\n",
       "      <td>0.20</td>\n",
       "      <td>0.57</td>\n",
       "      <td>0.79</td>\n",
       "      <td>0.61</td>\n",
       "      <td>0.09</td>\n",
       "      <td>-1.7</td>\n",
       "      <td>0.0</td>\n",
       "      <td>26.7</td>\n",
       "      <td>95.0</td>\n",
       "      <td>43.67</td>\n",
       "    </tr>\n",
       "    <tr>\n",
       "      <th>2000-01-03</th>\n",
       "      <td>-0.36</td>\n",
       "      <td>-0.69</td>\n",
       "      <td>-0.74</td>\n",
       "      <td>-0.30</td>\n",
       "      <td>-0.28</td>\n",
       "      <td>0.20</td>\n",
       "      <td>0.57</td>\n",
       "      <td>0.79</td>\n",
       "      <td>0.61</td>\n",
       "      <td>0.09</td>\n",
       "      <td>-1.7</td>\n",
       "      <td>0.0</td>\n",
       "      <td>24.0</td>\n",
       "      <td>96.0</td>\n",
       "      <td>41.21</td>\n",
       "    </tr>\n",
       "    <tr>\n",
       "      <th>2000-01-04</th>\n",
       "      <td>0.82</td>\n",
       "      <td>0.31</td>\n",
       "      <td>-0.53</td>\n",
       "      <td>-1.02</td>\n",
       "      <td>-1.06</td>\n",
       "      <td>-0.94</td>\n",
       "      <td>-0.57</td>\n",
       "      <td>0.06</td>\n",
       "      <td>0.83</td>\n",
       "      <td>1.05</td>\n",
       "      <td>-1.7</td>\n",
       "      <td>4.6</td>\n",
       "      <td>22.4</td>\n",
       "      <td>98.0</td>\n",
       "      <td>43.80</td>\n",
       "    </tr>\n",
       "    <tr>\n",
       "      <th>2000-01-05</th>\n",
       "      <td>0.82</td>\n",
       "      <td>0.31</td>\n",
       "      <td>-0.53</td>\n",
       "      <td>-1.02</td>\n",
       "      <td>-1.06</td>\n",
       "      <td>-0.94</td>\n",
       "      <td>-0.57</td>\n",
       "      <td>0.06</td>\n",
       "      <td>0.83</td>\n",
       "      <td>1.05</td>\n",
       "      <td>-1.7</td>\n",
       "      <td>0.0</td>\n",
       "      <td>21.0</td>\n",
       "      <td>98.0</td>\n",
       "      <td>40.62</td>\n",
       "    </tr>\n",
       "  </tbody>\n",
       "</table>\n",
       "</div>"
      ],
      "text/plain": [
       "             20E   70E   80E  100E  120E  140E  160E  120W   40W   10W  Value  \\\n",
       "Date                                                                            \n",
       "2000-01-01 -0.36 -0.69 -0.74 -0.30 -0.28  0.20  0.57  0.79  0.61  0.09   -1.7   \n",
       "2000-01-02 -0.36 -0.69 -0.74 -0.30 -0.28  0.20  0.57  0.79  0.61  0.09   -1.7   \n",
       "2000-01-03 -0.36 -0.69 -0.74 -0.30 -0.28  0.20  0.57  0.79  0.61  0.09   -1.7   \n",
       "2000-01-04  0.82  0.31 -0.53 -1.02 -1.06 -0.94 -0.57  0.06  0.83  1.05   -1.7   \n",
       "2000-01-05  0.82  0.31 -0.53 -1.02 -1.06 -0.94 -0.57  0.06  0.83  1.05   -1.7   \n",
       "\n",
       "            Precipitaciones  Temperaturas  Humedades  AporCaudal  \n",
       "Date                                                              \n",
       "2000-01-01              0.0          23.6       96.0       43.51  \n",
       "2000-01-02              0.0          26.7       95.0       43.67  \n",
       "2000-01-03              0.0          24.0       96.0       41.21  \n",
       "2000-01-04              4.6          22.4       98.0       43.80  \n",
       "2000-01-05              0.0          21.0       98.0       40.62  "
      ]
     },
     "execution_count": 4,
     "metadata": {},
     "output_type": "execute_result"
    }
   ],
   "source": [
    "df.drop(['Name','Year','Month','PosibleNino','PosibleNina'],axis=1,inplace=True)\n",
    "df_test.drop(['Name','Year','Month','PosibleNino','PosibleNina'],axis=1,inplace=True)\n",
    "df.head()"
   ]
  },
  {
   "cell_type": "code",
   "execution_count": 5,
   "metadata": {},
   "outputs": [
    {
     "data": {
      "text/html": [
       "<div>\n",
       "<style scoped>\n",
       "    .dataframe tbody tr th:only-of-type {\n",
       "        vertical-align: middle;\n",
       "    }\n",
       "\n",
       "    .dataframe tbody tr th {\n",
       "        vertical-align: top;\n",
       "    }\n",
       "\n",
       "    .dataframe thead th {\n",
       "        text-align: right;\n",
       "    }\n",
       "</style>\n",
       "<table border=\"1\" class=\"dataframe\">\n",
       "  <thead>\n",
       "    <tr style=\"text-align: right;\">\n",
       "      <th></th>\n",
       "      <th>20E</th>\n",
       "      <th>70E</th>\n",
       "      <th>80E</th>\n",
       "      <th>100E</th>\n",
       "      <th>120E</th>\n",
       "      <th>140E</th>\n",
       "      <th>160E</th>\n",
       "      <th>120W</th>\n",
       "      <th>40W</th>\n",
       "      <th>10W</th>\n",
       "      <th>Value</th>\n",
       "      <th>Precipitaciones</th>\n",
       "      <th>Temperaturas</th>\n",
       "      <th>Humedades</th>\n",
       "      <th>AporCaudal</th>\n",
       "      <th>ValorAnterior</th>\n",
       "    </tr>\n",
       "    <tr>\n",
       "      <th>Date</th>\n",
       "      <th></th>\n",
       "      <th></th>\n",
       "      <th></th>\n",
       "      <th></th>\n",
       "      <th></th>\n",
       "      <th></th>\n",
       "      <th></th>\n",
       "      <th></th>\n",
       "      <th></th>\n",
       "      <th></th>\n",
       "      <th></th>\n",
       "      <th></th>\n",
       "      <th></th>\n",
       "      <th></th>\n",
       "      <th></th>\n",
       "      <th></th>\n",
       "    </tr>\n",
       "  </thead>\n",
       "  <tbody>\n",
       "    <tr>\n",
       "      <th>2000-01-01</th>\n",
       "      <td>-0.36</td>\n",
       "      <td>-0.69</td>\n",
       "      <td>-0.74</td>\n",
       "      <td>-0.30</td>\n",
       "      <td>-0.28</td>\n",
       "      <td>0.20</td>\n",
       "      <td>0.57</td>\n",
       "      <td>0.79</td>\n",
       "      <td>0.61</td>\n",
       "      <td>0.09</td>\n",
       "      <td>-1.7</td>\n",
       "      <td>0.0</td>\n",
       "      <td>23.6</td>\n",
       "      <td>96.0</td>\n",
       "      <td>43.51</td>\n",
       "      <td>NaN</td>\n",
       "    </tr>\n",
       "    <tr>\n",
       "      <th>2000-01-02</th>\n",
       "      <td>-0.36</td>\n",
       "      <td>-0.69</td>\n",
       "      <td>-0.74</td>\n",
       "      <td>-0.30</td>\n",
       "      <td>-0.28</td>\n",
       "      <td>0.20</td>\n",
       "      <td>0.57</td>\n",
       "      <td>0.79</td>\n",
       "      <td>0.61</td>\n",
       "      <td>0.09</td>\n",
       "      <td>-1.7</td>\n",
       "      <td>0.0</td>\n",
       "      <td>26.7</td>\n",
       "      <td>95.0</td>\n",
       "      <td>43.67</td>\n",
       "      <td>43.51</td>\n",
       "    </tr>\n",
       "    <tr>\n",
       "      <th>2000-01-03</th>\n",
       "      <td>-0.36</td>\n",
       "      <td>-0.69</td>\n",
       "      <td>-0.74</td>\n",
       "      <td>-0.30</td>\n",
       "      <td>-0.28</td>\n",
       "      <td>0.20</td>\n",
       "      <td>0.57</td>\n",
       "      <td>0.79</td>\n",
       "      <td>0.61</td>\n",
       "      <td>0.09</td>\n",
       "      <td>-1.7</td>\n",
       "      <td>0.0</td>\n",
       "      <td>24.0</td>\n",
       "      <td>96.0</td>\n",
       "      <td>41.21</td>\n",
       "      <td>43.67</td>\n",
       "    </tr>\n",
       "    <tr>\n",
       "      <th>2000-01-04</th>\n",
       "      <td>0.82</td>\n",
       "      <td>0.31</td>\n",
       "      <td>-0.53</td>\n",
       "      <td>-1.02</td>\n",
       "      <td>-1.06</td>\n",
       "      <td>-0.94</td>\n",
       "      <td>-0.57</td>\n",
       "      <td>0.06</td>\n",
       "      <td>0.83</td>\n",
       "      <td>1.05</td>\n",
       "      <td>-1.7</td>\n",
       "      <td>4.6</td>\n",
       "      <td>22.4</td>\n",
       "      <td>98.0</td>\n",
       "      <td>43.80</td>\n",
       "      <td>41.21</td>\n",
       "    </tr>\n",
       "    <tr>\n",
       "      <th>2000-01-05</th>\n",
       "      <td>0.82</td>\n",
       "      <td>0.31</td>\n",
       "      <td>-0.53</td>\n",
       "      <td>-1.02</td>\n",
       "      <td>-1.06</td>\n",
       "      <td>-0.94</td>\n",
       "      <td>-0.57</td>\n",
       "      <td>0.06</td>\n",
       "      <td>0.83</td>\n",
       "      <td>1.05</td>\n",
       "      <td>-1.7</td>\n",
       "      <td>0.0</td>\n",
       "      <td>21.0</td>\n",
       "      <td>98.0</td>\n",
       "      <td>40.62</td>\n",
       "      <td>43.80</td>\n",
       "    </tr>\n",
       "  </tbody>\n",
       "</table>\n",
       "</div>"
      ],
      "text/plain": [
       "             20E   70E   80E  100E  120E  140E  160E  120W   40W   10W  Value  \\\n",
       "Date                                                                            \n",
       "2000-01-01 -0.36 -0.69 -0.74 -0.30 -0.28  0.20  0.57  0.79  0.61  0.09   -1.7   \n",
       "2000-01-02 -0.36 -0.69 -0.74 -0.30 -0.28  0.20  0.57  0.79  0.61  0.09   -1.7   \n",
       "2000-01-03 -0.36 -0.69 -0.74 -0.30 -0.28  0.20  0.57  0.79  0.61  0.09   -1.7   \n",
       "2000-01-04  0.82  0.31 -0.53 -1.02 -1.06 -0.94 -0.57  0.06  0.83  1.05   -1.7   \n",
       "2000-01-05  0.82  0.31 -0.53 -1.02 -1.06 -0.94 -0.57  0.06  0.83  1.05   -1.7   \n",
       "\n",
       "            Precipitaciones  Temperaturas  Humedades  AporCaudal  \\\n",
       "Date                                                               \n",
       "2000-01-01              0.0          23.6       96.0       43.51   \n",
       "2000-01-02              0.0          26.7       95.0       43.67   \n",
       "2000-01-03              0.0          24.0       96.0       41.21   \n",
       "2000-01-04              4.6          22.4       98.0       43.80   \n",
       "2000-01-05              0.0          21.0       98.0       40.62   \n",
       "\n",
       "            ValorAnterior  \n",
       "Date                       \n",
       "2000-01-01            NaN  \n",
       "2000-01-02          43.51  \n",
       "2000-01-03          43.67  \n",
       "2000-01-04          41.21  \n",
       "2000-01-05          43.80  "
      ]
     },
     "execution_count": 5,
     "metadata": {},
     "output_type": "execute_result"
    }
   ],
   "source": [
    "df['ValorAnterior']=df['AporCaudal'].shift(1)\n",
    "df_test['ValorAnterior']=df_test['AporCaudal'].shift(1)\n",
    "df.head()"
   ]
  },
  {
   "cell_type": "code",
   "execution_count": 6,
   "metadata": {},
   "outputs": [
    {
     "data": {
      "text/html": [
       "<div>\n",
       "<style scoped>\n",
       "    .dataframe tbody tr th:only-of-type {\n",
       "        vertical-align: middle;\n",
       "    }\n",
       "\n",
       "    .dataframe tbody tr th {\n",
       "        vertical-align: top;\n",
       "    }\n",
       "\n",
       "    .dataframe thead th {\n",
       "        text-align: right;\n",
       "    }\n",
       "</style>\n",
       "<table border=\"1\" class=\"dataframe\">\n",
       "  <thead>\n",
       "    <tr style=\"text-align: right;\">\n",
       "      <th></th>\n",
       "      <th>20E</th>\n",
       "      <th>70E</th>\n",
       "      <th>80E</th>\n",
       "      <th>100E</th>\n",
       "      <th>120E</th>\n",
       "      <th>140E</th>\n",
       "      <th>160E</th>\n",
       "      <th>120W</th>\n",
       "      <th>40W</th>\n",
       "      <th>10W</th>\n",
       "      <th>Value</th>\n",
       "      <th>Precipitaciones</th>\n",
       "      <th>AporCaudal</th>\n",
       "      <th>ValorAnterior</th>\n",
       "    </tr>\n",
       "    <tr>\n",
       "      <th>Date</th>\n",
       "      <th></th>\n",
       "      <th></th>\n",
       "      <th></th>\n",
       "      <th></th>\n",
       "      <th></th>\n",
       "      <th></th>\n",
       "      <th></th>\n",
       "      <th></th>\n",
       "      <th></th>\n",
       "      <th></th>\n",
       "      <th></th>\n",
       "      <th></th>\n",
       "      <th></th>\n",
       "      <th></th>\n",
       "    </tr>\n",
       "  </thead>\n",
       "  <tbody>\n",
       "    <tr>\n",
       "      <th>2000-01-01</th>\n",
       "      <td>-0.36</td>\n",
       "      <td>-0.69</td>\n",
       "      <td>-0.74</td>\n",
       "      <td>-0.30</td>\n",
       "      <td>-0.28</td>\n",
       "      <td>0.20</td>\n",
       "      <td>0.57</td>\n",
       "      <td>0.79</td>\n",
       "      <td>0.61</td>\n",
       "      <td>0.09</td>\n",
       "      <td>-1.7</td>\n",
       "      <td>0.0</td>\n",
       "      <td>43.51</td>\n",
       "      <td>NaN</td>\n",
       "    </tr>\n",
       "    <tr>\n",
       "      <th>2000-01-02</th>\n",
       "      <td>-0.36</td>\n",
       "      <td>-0.69</td>\n",
       "      <td>-0.74</td>\n",
       "      <td>-0.30</td>\n",
       "      <td>-0.28</td>\n",
       "      <td>0.20</td>\n",
       "      <td>0.57</td>\n",
       "      <td>0.79</td>\n",
       "      <td>0.61</td>\n",
       "      <td>0.09</td>\n",
       "      <td>-1.7</td>\n",
       "      <td>0.0</td>\n",
       "      <td>43.67</td>\n",
       "      <td>43.51</td>\n",
       "    </tr>\n",
       "    <tr>\n",
       "      <th>2000-01-03</th>\n",
       "      <td>-0.36</td>\n",
       "      <td>-0.69</td>\n",
       "      <td>-0.74</td>\n",
       "      <td>-0.30</td>\n",
       "      <td>-0.28</td>\n",
       "      <td>0.20</td>\n",
       "      <td>0.57</td>\n",
       "      <td>0.79</td>\n",
       "      <td>0.61</td>\n",
       "      <td>0.09</td>\n",
       "      <td>-1.7</td>\n",
       "      <td>0.0</td>\n",
       "      <td>41.21</td>\n",
       "      <td>43.67</td>\n",
       "    </tr>\n",
       "    <tr>\n",
       "      <th>2000-01-04</th>\n",
       "      <td>0.82</td>\n",
       "      <td>0.31</td>\n",
       "      <td>-0.53</td>\n",
       "      <td>-1.02</td>\n",
       "      <td>-1.06</td>\n",
       "      <td>-0.94</td>\n",
       "      <td>-0.57</td>\n",
       "      <td>0.06</td>\n",
       "      <td>0.83</td>\n",
       "      <td>1.05</td>\n",
       "      <td>-1.7</td>\n",
       "      <td>4.6</td>\n",
       "      <td>43.80</td>\n",
       "      <td>41.21</td>\n",
       "    </tr>\n",
       "    <tr>\n",
       "      <th>2000-01-05</th>\n",
       "      <td>0.82</td>\n",
       "      <td>0.31</td>\n",
       "      <td>-0.53</td>\n",
       "      <td>-1.02</td>\n",
       "      <td>-1.06</td>\n",
       "      <td>-0.94</td>\n",
       "      <td>-0.57</td>\n",
       "      <td>0.06</td>\n",
       "      <td>0.83</td>\n",
       "      <td>1.05</td>\n",
       "      <td>-1.7</td>\n",
       "      <td>0.0</td>\n",
       "      <td>40.62</td>\n",
       "      <td>43.80</td>\n",
       "    </tr>\n",
       "  </tbody>\n",
       "</table>\n",
       "</div>"
      ],
      "text/plain": [
       "             20E   70E   80E  100E  120E  140E  160E  120W   40W   10W  Value  \\\n",
       "Date                                                                            \n",
       "2000-01-01 -0.36 -0.69 -0.74 -0.30 -0.28  0.20  0.57  0.79  0.61  0.09   -1.7   \n",
       "2000-01-02 -0.36 -0.69 -0.74 -0.30 -0.28  0.20  0.57  0.79  0.61  0.09   -1.7   \n",
       "2000-01-03 -0.36 -0.69 -0.74 -0.30 -0.28  0.20  0.57  0.79  0.61  0.09   -1.7   \n",
       "2000-01-04  0.82  0.31 -0.53 -1.02 -1.06 -0.94 -0.57  0.06  0.83  1.05   -1.7   \n",
       "2000-01-05  0.82  0.31 -0.53 -1.02 -1.06 -0.94 -0.57  0.06  0.83  1.05   -1.7   \n",
       "\n",
       "            Precipitaciones  AporCaudal  ValorAnterior  \n",
       "Date                                                    \n",
       "2000-01-01              0.0       43.51            NaN  \n",
       "2000-01-02              0.0       43.67          43.51  \n",
       "2000-01-03              0.0       41.21          43.67  \n",
       "2000-01-04              4.6       43.80          41.21  \n",
       "2000-01-05              0.0       40.62          43.80  "
      ]
     },
     "execution_count": 6,
     "metadata": {},
     "output_type": "execute_result"
    }
   ],
   "source": [
    "df.drop(['Temperaturas','Humedades'],axis=1, inplace=True)\n",
    "df_test.drop(['Temperaturas','Humedades'],axis=1, inplace=True)\n",
    "df.head()"
   ]
  },
  {
   "cell_type": "markdown",
   "metadata": {},
   "source": [
    "Reemplazar datos faltantes"
   ]
  },
  {
   "cell_type": "code",
   "execution_count": 7,
   "metadata": {},
   "outputs": [],
   "source": [
    "df = df.fillna(df.mean())"
   ]
  },
  {
   "cell_type": "code",
   "execution_count": 8,
   "metadata": {},
   "outputs": [
    {
     "data": {
      "text/plain": [
       "20E                0\n",
       "70E                0\n",
       "80E                0\n",
       "100E               0\n",
       "120E               0\n",
       "140E               0\n",
       "160E               0\n",
       "120W               0\n",
       "40W                0\n",
       "10W                0\n",
       "Value              0\n",
       "Precipitaciones    0\n",
       "AporCaudal         0\n",
       "ValorAnterior      0\n",
       "dtype: int64"
      ]
     },
     "execution_count": 8,
     "metadata": {},
     "output_type": "execute_result"
    }
   ],
   "source": [
    "df.isna().sum()"
   ]
  },
  {
   "cell_type": "code",
   "execution_count": 9,
   "metadata": {},
   "outputs": [
    {
     "name": "stdout",
     "output_type": "stream",
     "text": [
      "El número total de registros es de:  8637\n",
      "El número total de columnas es de:  14\n"
     ]
    }
   ],
   "source": [
    "rows, col = df.shape\n",
    "print(\"El número total de registros es de: \",rows)\n",
    "print(\"El número total de columnas es de: \",col)"
   ]
  },
  {
   "cell_type": "markdown",
   "metadata": {},
   "source": [
    "Revisar los datos de prueba"
   ]
  },
  {
   "cell_type": "code",
   "execution_count": 10,
   "metadata": {},
   "outputs": [
    {
     "data": {
      "text/plain": [
       "20E                0\n",
       "70E                0\n",
       "80E                0\n",
       "100E               0\n",
       "120E               0\n",
       "140E               0\n",
       "160E               0\n",
       "120W               0\n",
       "40W                0\n",
       "10W                0\n",
       "Value              0\n",
       "Precipitaciones    0\n",
       "AporCaudal         0\n",
       "ValorAnterior      1\n",
       "dtype: int64"
      ]
     },
     "execution_count": 10,
     "metadata": {},
     "output_type": "execute_result"
    }
   ],
   "source": [
    "df_test.isna().sum()"
   ]
  },
  {
   "cell_type": "markdown",
   "metadata": {},
   "source": [
    "## 1.2 Normalizar los datos"
   ]
  },
  {
   "cell_type": "code",
   "execution_count": 11,
   "metadata": {},
   "outputs": [],
   "source": [
    "dataset = df.values # Convertir a numpy array\n",
    "test_data = df_test.values # Convertir a numpy array"
   ]
  },
  {
   "cell_type": "code",
   "execution_count": 12,
   "metadata": {},
   "outputs": [
    {
     "name": "stdout",
     "output_type": "stream",
     "text": [
      "Total de datos para entrenamiento y validación:  8637\n",
      "Total de datos para test:  488\n"
     ]
    }
   ],
   "source": [
    "training_data_len = len(dataset)  # Total de dato para entrenamiento y validación\n",
    "test_data_len = len(test_data)  # Total de datos para test\n",
    "print(\"Total de datos para entrenamiento y validación: \",training_data_len)\n",
    "print(\"Total de datos para test: \",test_data_len)"
   ]
  },
  {
   "cell_type": "code",
   "execution_count": 13,
   "metadata": {},
   "outputs": [
    {
     "data": {
      "text/plain": [
       "array([43.51 , 43.67 , 41.21 , ..., 32.565, 28.913, 26.057])"
      ]
     },
     "execution_count": 13,
     "metadata": {},
     "output_type": "execute_result"
    }
   ],
   "source": [
    "dataset[:,12] # Aportes"
   ]
  },
  {
   "cell_type": "code",
   "execution_count": 14,
   "metadata": {},
   "outputs": [],
   "source": [
    "scaler = StandardScaler()\n",
    "scaled_data = scaler.fit_transform(dataset)\n",
    "scaled_test_data = scaler.fit_transform(test_data)"
   ]
  },
  {
   "cell_type": "markdown",
   "metadata": {},
   "source": [
    "## 1.3 Separar los datos de entrenamiento y validación"
   ]
  },
  {
   "cell_type": "code",
   "execution_count": 15,
   "metadata": {},
   "outputs": [],
   "source": [
    "train_val_data = scaled_data"
   ]
  },
  {
   "cell_type": "code",
   "execution_count": 16,
   "metadata": {},
   "outputs": [],
   "source": [
    "val_data_len = int(np.ceil(len(train_val_data) * 0.05))  # 5% de los datos de para validación\n",
    "training_data = train_val_data[:-val_data_len]\n",
    "val_data = train_val_data[-val_data_len:]"
   ]
  },
  {
   "cell_type": "code",
   "execution_count": 17,
   "metadata": {},
   "outputs": [
    {
     "name": "stdout",
     "output_type": "stream",
     "text": [
      "Total de datos de entrenamiento: 8205\n",
      "Total de datos de validación: 432\n"
     ]
    }
   ],
   "source": [
    "print(f\"Total de datos de entrenamiento: {len(training_data)}\")\n",
    "print(f\"Total de datos de validación: {len(val_data)}\")"
   ]
  },
  {
   "cell_type": "code",
   "execution_count": 18,
   "metadata": {},
   "outputs": [
    {
     "data": {
      "text/plain": [
       "(8205, 14)"
      ]
     },
     "execution_count": 18,
     "metadata": {},
     "output_type": "execute_result"
    }
   ],
   "source": [
    "training_data.shape"
   ]
  },
  {
   "cell_type": "markdown",
   "metadata": {},
   "source": [
    "## 1.3 Crear ventana de tiempo"
   ]
  },
  {
   "cell_type": "markdown",
   "metadata": {},
   "source": [
    "Datos de entrenamiento"
   ]
  },
  {
   "cell_type": "code",
   "execution_count": 19,
   "metadata": {},
   "outputs": [],
   "source": [
    "X_train, y_train = [], []\n",
    "\n",
    "window_slide = 30 # 30 días\n",
    "\n",
    "for i in range(window_slide, len(training_data)):\n",
    "    X_train.append(training_data[i-window_slide:i,:]) # Todas las variables\n",
    "    y_train.append(training_data[i,12]) # Aportes\n",
    "    \n",
    "X_train, y_train = np.array(X_train), np.array(y_train)\n",
    "\n",
    "X_train = np.reshape(X_train, (X_train.shape[0], X_train.shape[1], 14))"
   ]
  },
  {
   "cell_type": "code",
   "execution_count": 20,
   "metadata": {},
   "outputs": [
    {
     "data": {
      "text/plain": [
       "(8175, 30, 14)"
      ]
     },
     "execution_count": 20,
     "metadata": {},
     "output_type": "execute_result"
    }
   ],
   "source": [
    "X_train.shape"
   ]
  },
  {
   "cell_type": "code",
   "execution_count": 21,
   "metadata": {},
   "outputs": [
    {
     "data": {
      "text/plain": [
       "(8175,)"
      ]
     },
     "execution_count": 21,
     "metadata": {},
     "output_type": "execute_result"
    }
   ],
   "source": [
    "y_train.shape"
   ]
  },
  {
   "cell_type": "markdown",
   "metadata": {},
   "source": [
    "Datos de validación"
   ]
  },
  {
   "cell_type": "code",
   "execution_count": 22,
   "metadata": {},
   "outputs": [],
   "source": [
    "X_val, y_val = [], []\n",
    "for i in range(len(training_data), len(train_val_data)):\n",
    "    X_val.append(train_val_data[i-window_slide:i, :])  # Todas la variables\n",
    "    y_val.append(train_val_data[i, 12])  # Aportes\n",
    "\n",
    "X_val, y_val = np.array(X_val), np.array(y_val)\n",
    "X_val = np.reshape(X_val, (X_val.shape[0], X_val.shape[1], 14))"
   ]
  },
  {
   "cell_type": "markdown",
   "metadata": {},
   "source": [
    "# 3. Construir el modelo"
   ]
  },
  {
   "cell_type": "code",
   "execution_count": 23,
   "metadata": {},
   "outputs": [
    {
     "name": "stderr",
     "output_type": "stream",
     "text": [
      "c:\\Users\\USUARIO\\AppData\\Local\\Programs\\Python\\Python312\\Lib\\site-packages\\keras\\src\\layers\\rnn\\rnn.py:200: UserWarning: Do not pass an `input_shape`/`input_dim` argument to a layer. When using Sequential models, prefer using an `Input(shape)` object as the first layer in the model instead.\n",
      "  super().__init__(**kwargs)\n"
     ]
    }
   ],
   "source": [
    "from keras import regularizers\n",
    "\n",
    "# Definir modelo\n",
    "model = keras.models.Sequential()\n",
    "\n",
    "# Añadir capas LSTM\n",
    "model.add(keras.layers.LSTM(128, return_sequences=True, input_shape=(X_train.shape[1],14), kernel_regularizer=regularizers.l2(0.01)))\n",
    "model.add(keras.layers.Dropout(0.2))\n",
    "model.add(keras.layers.LSTM(128, return_sequences=False, kernel_regularizer=regularizers.l2(0.01)))\n",
    "model.add(keras.layers.Dropout(0.2))\n",
    "\n",
    "# Añadir capas densas\n",
    "model.add(keras.layers.Dense(128, activation=\"relu\", kernel_regularizer=regularizers.l2(0.01)))\n",
    "model.add(keras.layers.Dropout(0.2))\n",
    "model.add(keras.layers.Dense(1))"
   ]
  },
  {
   "cell_type": "code",
   "execution_count": 24,
   "metadata": {},
   "outputs": [],
   "source": [
    "from keras.optimizers import Adam\n",
    "\n",
    "optimizer = Adam(learning_rate=0.001)"
   ]
  },
  {
   "cell_type": "code",
   "execution_count": 25,
   "metadata": {},
   "outputs": [],
   "source": [
    "model.compile(optimizer=optimizer,\n",
    "              loss=\"mae\",\n",
    "              metrics=[keras.metrics.R2Score()])"
   ]
  },
  {
   "cell_type": "markdown",
   "metadata": {},
   "source": [
    "# 4. Entrenar"
   ]
  },
  {
   "cell_type": "code",
   "execution_count": 26,
   "metadata": {},
   "outputs": [],
   "source": [
    "from keras.callbacks import EarlyStopping, ReduceLROnPlateau\n",
    "\n",
    "early_stopping = EarlyStopping(monitor='val_loss', patience=5, restore_best_weights=True)\n",
    "lr_scheduler = ReduceLROnPlateau(monitor='val_loss', factor=0.2, patience=3, min_lr=0.00001)"
   ]
  },
  {
   "cell_type": "code",
   "execution_count": 27,
   "metadata": {},
   "outputs": [
    {
     "name": "stdout",
     "output_type": "stream",
     "text": [
      "Epoch 1/40\n",
      "\u001b[1m128/128\u001b[0m \u001b[32m━━━━━━━━━━━━━━━━━━━━\u001b[0m\u001b[37m\u001b[0m \u001b[1m7s\u001b[0m 36ms/step - loss: 2.6161 - r2_score: 0.3964 - val_loss: 0.6660 - val_r2_score: 0.6934 - learning_rate: 0.0010\n",
      "Epoch 2/40\n",
      "\u001b[1m128/128\u001b[0m \u001b[32m━━━━━━━━━━━━━━━━━━━━\u001b[0m\u001b[37m\u001b[0m \u001b[1m5s\u001b[0m 36ms/step - loss: 0.6505 - r2_score: 0.5313 - val_loss: 0.4549 - val_r2_score: 0.7719 - learning_rate: 0.0010\n",
      "Epoch 3/40\n",
      "\u001b[1m128/128\u001b[0m \u001b[32m━━━━━━━━━━━━━━━━━━━━\u001b[0m\u001b[37m\u001b[0m \u001b[1m4s\u001b[0m 34ms/step - loss: 0.4772 - r2_score: 0.6345 - val_loss: 0.3811 - val_r2_score: 0.8154 - learning_rate: 0.0010\n",
      "Epoch 4/40\n",
      "\u001b[1m128/128\u001b[0m \u001b[32m━━━━━━━━━━━━━━━━━━━━\u001b[0m\u001b[37m\u001b[0m \u001b[1m5s\u001b[0m 35ms/step - loss: 0.4532 - r2_score: 0.6625 - val_loss: 0.4029 - val_r2_score: 0.7933 - learning_rate: 0.0010\n",
      "Epoch 5/40\n",
      "\u001b[1m128/128\u001b[0m \u001b[32m━━━━━━━━━━━━━━━━━━━━\u001b[0m\u001b[37m\u001b[0m \u001b[1m5s\u001b[0m 35ms/step - loss: 0.4249 - r2_score: 0.6759 - val_loss: 0.3151 - val_r2_score: 0.8291 - learning_rate: 0.0010\n",
      "Epoch 6/40\n",
      "\u001b[1m128/128\u001b[0m \u001b[32m━━━━━━━━━━━━━━━━━━━━\u001b[0m\u001b[37m\u001b[0m \u001b[1m5s\u001b[0m 36ms/step - loss: 0.4191 - r2_score: 0.6790 - val_loss: 0.3582 - val_r2_score: 0.7968 - learning_rate: 0.0010\n",
      "Epoch 7/40\n",
      "\u001b[1m128/128\u001b[0m \u001b[32m━━━━━━━━━━━━━━━━━━━━\u001b[0m\u001b[37m\u001b[0m \u001b[1m5s\u001b[0m 36ms/step - loss: 0.4209 - r2_score: 0.6649 - val_loss: 0.3911 - val_r2_score: 0.7860 - learning_rate: 0.0010\n",
      "Epoch 8/40\n",
      "\u001b[1m128/128\u001b[0m \u001b[32m━━━━━━━━━━━━━━━━━━━━\u001b[0m\u001b[37m\u001b[0m \u001b[1m5s\u001b[0m 37ms/step - loss: 0.4236 - r2_score: 0.6579 - val_loss: 0.3183 - val_r2_score: 0.8233 - learning_rate: 0.0010\n",
      "Epoch 9/40\n",
      "\u001b[1m128/128\u001b[0m \u001b[32m━━━━━━━━━━━━━━━━━━━━\u001b[0m\u001b[37m\u001b[0m \u001b[1m5s\u001b[0m 40ms/step - loss: 0.4160 - r2_score: 0.6597 - val_loss: 0.2980 - val_r2_score: 0.8485 - learning_rate: 2.0000e-04\n",
      "Epoch 10/40\n",
      "\u001b[1m128/128\u001b[0m \u001b[32m━━━━━━━━━━━━━━━━━━━━\u001b[0m\u001b[37m\u001b[0m \u001b[1m5s\u001b[0m 40ms/step - loss: 0.3956 - r2_score: 0.6980 - val_loss: 0.3376 - val_r2_score: 0.8392 - learning_rate: 2.0000e-04\n",
      "Epoch 11/40\n",
      "\u001b[1m128/128\u001b[0m \u001b[32m━━━━━━━━━━━━━━━━━━━━\u001b[0m\u001b[37m\u001b[0m \u001b[1m6s\u001b[0m 49ms/step - loss: 0.4103 - r2_score: 0.6919 - val_loss: 0.3127 - val_r2_score: 0.8406 - learning_rate: 2.0000e-04\n",
      "Epoch 12/40\n",
      "\u001b[1m128/128\u001b[0m \u001b[32m━━━━━━━━━━━━━━━━━━━━\u001b[0m\u001b[37m\u001b[0m \u001b[1m6s\u001b[0m 47ms/step - loss: 0.4122 - r2_score: 0.6764 - val_loss: 0.3065 - val_r2_score: 0.8374 - learning_rate: 2.0000e-04\n",
      "Epoch 13/40\n",
      "\u001b[1m128/128\u001b[0m \u001b[32m━━━━━━━━━━━━━━━━━━━━\u001b[0m\u001b[37m\u001b[0m \u001b[1m6s\u001b[0m 43ms/step - loss: 0.4009 - r2_score: 0.6981 - val_loss: 0.3012 - val_r2_score: 0.8451 - learning_rate: 4.0000e-05\n",
      "Epoch 14/40\n",
      "\u001b[1m128/128\u001b[0m \u001b[32m━━━━━━━━━━━━━━━━━━━━\u001b[0m\u001b[37m\u001b[0m \u001b[1m5s\u001b[0m 41ms/step - loss: 0.3956 - r2_score: 0.6811 - val_loss: 0.3007 - val_r2_score: 0.8495 - learning_rate: 4.0000e-05\n"
     ]
    }
   ],
   "source": [
    "training = model.fit(X_train, y_train, \n",
    "                    validation_data=(X_val, y_val), \n",
    "                    epochs=40, \n",
    "                    batch_size=64, \n",
    "                    callbacks=[early_stopping, lr_scheduler])"
   ]
  },
  {
   "cell_type": "code",
   "execution_count": 28,
   "metadata": {},
   "outputs": [
    {
     "data": {
      "image/png": "[encoded data removed]",
      "text/plain": [
       "<Figure size 640x480 with 1 Axes>"
      ]
     },
     "metadata": {},
     "output_type": "display_data"
    }
   ],
   "source": [
    "plt.plot(training.history['loss'], label='Training Loss')\n",
    "plt.plot(training.history['val_loss'], label='Validation Loss')\n",
    "plt.xlabel('Epochs')\n",
    "plt.ylabel('Loss')\n",
    "plt.legend()\n",
    "plt.grid(True)"
   ]
  },
  {
   "cell_type": "markdown",
   "metadata": {},
   "source": [
    "# 5. Resultados"
   ]
  },
  {
   "cell_type": "code",
   "execution_count": 29,
   "metadata": {},
   "outputs": [],
   "source": [
    "# Preparar los datos de test\n",
    "test_data = scaled_test_data[:]\n",
    "X_test, y_test = [], test_data[:,12]\n",
    "\n",
    "for i in range(window_slide, len(test_data)):\n",
    "    X_test.append(test_data[i-window_slide:i])\n",
    "    \n",
    "X_test = np.array(X_test)\n",
    "X_test = np.reshape(X_test, (X_test.shape[0],X_test.shape[1],14))"
   ]
  },
  {
   "cell_type": "code",
   "execution_count": 30,
   "metadata": {},
   "outputs": [
    {
     "name": "stdout",
     "output_type": "stream",
     "text": [
      "\u001b[1m15/15\u001b[0m \u001b[32m━━━━━━━━━━━━━━━━━━━━\u001b[0m\u001b[37m\u001b[0m \u001b[1m1s\u001b[0m 23ms/step\n"
     ]
    }
   ],
   "source": [
    "predictions = model.predict(X_test)"
   ]
  },
  {
   "cell_type": "code",
   "execution_count": 31,
   "metadata": {},
   "outputs": [
    {
     "data": {
      "text/plain": [
       "(458, 1)"
      ]
     },
     "execution_count": 31,
     "metadata": {},
     "output_type": "execute_result"
    }
   ],
   "source": [
    "predictions.shape"
   ]
  },
  {
   "cell_type": "code",
   "execution_count": 32,
   "metadata": {},
   "outputs": [],
   "source": [
    "predictions = np.repeat(predictions, 14, axis=1)\n",
    "predictions_final = scaler.inverse_transform(predictions)"
   ]
  },
  {
   "cell_type": "code",
   "execution_count": 33,
   "metadata": {},
   "outputs": [],
   "source": [
    "train = df[['AporCaudal']]\n",
    "test =  df_test[['AporCaudal']][window_slide:]"
   ]
  },
  {
   "cell_type": "code",
   "execution_count": 34,
   "metadata": {},
   "outputs": [],
   "source": [
    "predictions = predictions_final[:, 12] "
   ]
  },
  {
   "cell_type": "code",
   "execution_count": 35,
   "metadata": {},
   "outputs": [],
   "source": [
    "predictions = pd.DataFrame(predictions, index=test.index, columns=[\"Predictions\"])"
   ]
  },
  {
   "cell_type": "code",
   "execution_count": 36,
   "metadata": {},
   "outputs": [
    {
     "data": {
      "text/html": [
       "<div>\n",
       "<style scoped>\n",
       "    .dataframe tbody tr th:only-of-type {\n",
       "        vertical-align: middle;\n",
       "    }\n",
       "\n",
       "    .dataframe tbody tr th {\n",
       "        vertical-align: top;\n",
       "    }\n",
       "\n",
       "    .dataframe thead th {\n",
       "        text-align: right;\n",
       "    }\n",
       "</style>\n",
       "<table border=\"1\" class=\"dataframe\">\n",
       "  <thead>\n",
       "    <tr style=\"text-align: right;\">\n",
       "      <th></th>\n",
       "      <th>Predictions</th>\n",
       "    </tr>\n",
       "    <tr>\n",
       "      <th>Date</th>\n",
       "      <th></th>\n",
       "    </tr>\n",
       "  </thead>\n",
       "  <tbody>\n",
       "    <tr>\n",
       "      <th>2023-10-01</th>\n",
       "      <td>13.509988</td>\n",
       "    </tr>\n",
       "  </tbody>\n",
       "</table>\n",
       "</div>"
      ],
      "text/plain": [
       "            Predictions\n",
       "Date                   \n",
       "2023-10-01    13.509988"
      ]
     },
     "execution_count": 36,
     "metadata": {},
     "output_type": "execute_result"
    }
   ],
   "source": [
    "predictions.head(1)"
   ]
  },
  {
   "cell_type": "code",
   "execution_count": 37,
   "metadata": {},
   "outputs": [
    {
     "data": {
      "text/html": [
       "<div>\n",
       "<style scoped>\n",
       "    .dataframe tbody tr th:only-of-type {\n",
       "        vertical-align: middle;\n",
       "    }\n",
       "\n",
       "    .dataframe tbody tr th {\n",
       "        vertical-align: top;\n",
       "    }\n",
       "\n",
       "    .dataframe thead th {\n",
       "        text-align: right;\n",
       "    }\n",
       "</style>\n",
       "<table border=\"1\" class=\"dataframe\">\n",
       "  <thead>\n",
       "    <tr style=\"text-align: right;\">\n",
       "      <th></th>\n",
       "      <th>AporCaudal</th>\n",
       "    </tr>\n",
       "    <tr>\n",
       "      <th>Date</th>\n",
       "      <th></th>\n",
       "    </tr>\n",
       "  </thead>\n",
       "  <tbody>\n",
       "    <tr>\n",
       "      <th>2023-10-01</th>\n",
       "      <td>12.841</td>\n",
       "    </tr>\n",
       "  </tbody>\n",
       "</table>\n",
       "</div>"
      ],
      "text/plain": [
       "            AporCaudal\n",
       "Date                  \n",
       "2023-10-01      12.841"
      ]
     },
     "execution_count": 37,
     "metadata": {},
     "output_type": "execute_result"
    }
   ],
   "source": [
    "test.head(1)"
   ]
  },
  {
   "cell_type": "code",
   "execution_count": 38,
   "metadata": {},
   "outputs": [
    {
     "data": {
      "image/png": "[encoded data removed]",
      "text/plain": [
       "<Figure size 1200x800 with 1 Axes>"
      ]
     },
     "metadata": {},
     "output_type": "display_data"
    }
   ],
   "source": [
    "plt.figure(figsize=(12,8))\n",
    "plt.plot(train, label=\"Entrenamiento\", color='blue')\n",
    "plt.plot(test, label=\"Test\", color='orange')\n",
    "plt.plot(predictions, label=\"Predicciones\", color='red')\n",
    "plt.xlabel(\"Fecha\")\n",
    "plt.ylabel(\"m3/s\")\n",
    "plt.legend()\n",
    "plt.show()"
   ]
  },
  {
   "cell_type": "code",
   "execution_count": 39,
   "metadata": {},
   "outputs": [
    {
     "data": {
      "image/png": "[encoded data removed]",
      "text/plain": [
       "<Figure size 1200x800 with 1 Axes>"
      ]
     },
     "metadata": {},
     "output_type": "display_data"
    }
   ],
   "source": [
    "import matplotlib.pyplot as plt\n",
    "\n",
    "# Definir el periodo de las predicciones\n",
    "start_date = predictions.index.min()  # Primer día de las predicciones\n",
    "end_date = predictions.index.max()    # Último día de las predicciones\n",
    "\n",
    "plt.figure(figsize=(12,8))\n",
    "\n",
    "# Graficar datos de prueba\n",
    "plt.plot(test, label=\"Test (Real)\", color='orange',linestyle='dashed')\n",
    "\n",
    "# Graficar predicciones\n",
    "plt.plot(predictions.index, predictions, label=\"Predicción\", color='red')\n",
    "\n",
    "# Ajustar el rango de fechas (zoom en el periodo de las predicciones)\n",
    "plt.xlim(start_date, end_date)\n",
    "\n",
    "plt.xlabel(\"Fecha\")\n",
    "plt.ylabel(\"m3/s\")\n",
    "plt.legend()\n",
    "plt.show()\n"
   ]
  },
  {
   "cell_type": "code",
   "execution_count": 40,
   "metadata": {},
   "outputs": [
    {
     "data": {
      "text/html": [
       "<div>\n",
       "<style scoped>\n",
       "    .dataframe tbody tr th:only-of-type {\n",
       "        vertical-align: middle;\n",
       "    }\n",
       "\n",
       "    .dataframe tbody tr th {\n",
       "        vertical-align: top;\n",
       "    }\n",
       "\n",
       "    .dataframe thead th {\n",
       "        text-align: right;\n",
       "    }\n",
       "</style>\n",
       "<table border=\"1\" class=\"dataframe\">\n",
       "  <thead>\n",
       "    <tr style=\"text-align: right;\">\n",
       "      <th></th>\n",
       "      <th>Metric</th>\n",
       "      <th>Value</th>\n",
       "    </tr>\n",
       "  </thead>\n",
       "  <tbody>\n",
       "    <tr>\n",
       "      <th>0</th>\n",
       "      <td>MSE</td>\n",
       "      <td>14.164610</td>\n",
       "    </tr>\n",
       "    <tr>\n",
       "      <th>1</th>\n",
       "      <td>MAE</td>\n",
       "      <td>2.082900</td>\n",
       "    </tr>\n",
       "    <tr>\n",
       "      <th>2</th>\n",
       "      <td>RMSE</td>\n",
       "      <td>3.763590</td>\n",
       "    </tr>\n",
       "    <tr>\n",
       "      <th>3</th>\n",
       "      <td>R²</td>\n",
       "      <td>0.738958</td>\n",
       "    </tr>\n",
       "  </tbody>\n",
       "</table>\n",
       "</div>"
      ],
      "text/plain": [
       "  Metric      Value\n",
       "0    MSE  14.164610\n",
       "1    MAE   2.082900\n",
       "2   RMSE   3.763590\n",
       "3     R²   0.738958"
      ]
     },
     "execution_count": 40,
     "metadata": {},
     "output_type": "execute_result"
    }
   ],
   "source": [
    "from sklearn.metrics import mean_squared_error, mean_absolute_error, r2_score\n",
    "import pandas as pd\n",
    "from math import sqrt\n",
    "\n",
    "# Calcular MSE, MAE, RMSE y R²\n",
    "mse = mean_squared_error(test['AporCaudal'], predictions['Predictions'])\n",
    "mae = mean_absolute_error(test['AporCaudal'], predictions['Predictions'])\n",
    "rmse = sqrt(mse)\n",
    "r2 = r2_score(test['AporCaudal'], predictions['Predictions'])\n",
    "\n",
    "# Crear un DataFrame para mostrar las métricas\n",
    "metrics = {\n",
    "    'Metric': ['MSE', 'MAE', 'RMSE', 'R²'],\n",
    "    'Value': [mse, mae, rmse, r2]\n",
    "}\n",
    "\n",
    "metrics_df = pd.DataFrame(metrics)\n",
    "\n",
    "# Mostrar la tabla con las métricas\n",
    "metrics_df"
   ]
  },
  {
   "cell_type": "markdown",
   "metadata": {},
   "source": [
    "## 5.1. Análisis de resultados"
   ]
  },
  {
   "cell_type": "markdown",
   "metadata": {},
   "source": [
    "El modelo muestra un rendimiento sólido como base para la predicción de series temporales aplicadas al caso de aportes de caudales, obteniendo un puntaje de R² de validación de aproximadamente 0.85 y un R² de prueba de 0.73, lo que indica que captura una porción significativa de la tendencia subyacente en los datos. El proceso de entrenamiento evidenció una mejora consistente en las pérdidas tanto de entrenamiento como de validación, lo que sugiere que el modelo está aprendiendo de manera efectiva, aunque las fluctuaciones ocasionales en el rendimiento de validación destacan cierta inestabilidad. El uso de regularización L2 y capas de dropout contribuye a mitigar el sobreajuste, como lo demuestra la relativa estabilidad de las métricas de validación a pesar de la complejidad del modelo.\n",
    "\n",
    "Sin embargo, los intentos de mejorar el rendimiento aumentando la complejidad del modelo—como añadir más capas LSTM, capas densas o neuronas—no resultaron en mejores resultados y, en algunos casos, llevaron a una disminución en el puntaje R² de prueba. Esto sugiere que el modelo ya está capturando la mayoría de los patrones aprendibles en los datos y que, por sí solas, mejoras en la arquitectura no son suficientes para optimizar el rendimiento. En cambio, la falta de mejoras indica limitaciones potenciales en el propio conjunto de datos, como un volumen insuficiente de datos, características ruidosas o redundantes, o dificultades inherentes en los patrones temporales que se están modelando.\n",
    "\n",
    "Para lograr mejoras adicionales, el trabajo futuro debe centrarse en refinar el manejo de los datos, en lugar de aumentar exclusivamente la complejidad del modelo. Esto podría incluir la ingeniería de características específicas o explorar enfoques alternativos de modelado, como arquitecturas híbridas.\n",
    "\n",
    "Aunque el modelo actual proporciona una base funcional para la predicción, lograr una mayor precisión probablemente requerirá un enfoque más holístico que combine mejoras en la calidad de los datos, ingeniería de características y una optimización detallada de hiperparámetros."
   ]
  }
 ],
 "metadata": {
  "kernelspec": {
   "display_name": "Python 3",
   "language": "python",
   "name": "python3"
  },
  "language_info": {
   "codemirror_mode": {
    "name": "ipython",
    "version": 3
   },
   "file_extension": ".py",
   "mimetype": "text/x-python",
   "name": "python",
   "nbconvert_exporter": "python",
   "pygments_lexer": "ipython3",
   "version": "3.12.7"
  }
 },
 "nbformat": 4,
 "nbformat_minor": 2
}
